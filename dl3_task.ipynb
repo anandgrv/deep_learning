{
  "nbformat": 4,
  "nbformat_minor": 0,
  "metadata": {
    "colab": {
      "name": "HW3.ipynb",
      "provenance": [],
      "collapsed_sections": [],
      "toc_visible": true
    },
    "kernelspec": {
      "name": "python3",
      "display_name": "Python 3"
    }
  },
  "cells": [
    {
      "cell_type": "markdown",
      "metadata": {
        "id": "BxtreUAPraI-"
      },
      "source": [
        "#**HW 3: Convolutional Neural Networks**\n",
        "\n",
        "In this homework, we will explore how to develop a simple Convolutional Neural Network for image classification. We will use the same dataset that we used in the previous exercise, the Fashion Minst. In the first part, we will learn how to develop a simple CNN, while in the second part we will explore the impact of various hyper-parameters in the learning performances."
      ]
    },
    {
      "cell_type": "markdown",
      "metadata": {
        "id": "CRwTPJt3rxug"
      },
      "source": [
        "##Exercise 3.1: Simple CNN\n",
        "\n",
        "Let's start by importing Tensorflow, Keras and Numpy"
      ]
    },
    {
      "cell_type": "code",
      "metadata": {
        "id": "seDcv-RvrUpM"
      },
      "source": [
        "import tensorflow as tf\n",
        "from tensorflow import keras\n",
        "import matplotlib.pyplot as plt\n",
        "import numpy as np\n",
        "\n",
        "np.random.seed(42)"
      ],
      "execution_count": 1,
      "outputs": []
    },
    {
      "cell_type": "markdown",
      "metadata": {
        "id": "UxWbaR_HsPYp"
      },
      "source": [
        "###Load dataset:\n",
        "Load the Fashion Minst dataset as we did in the previous homework. As you already know Fashion Minst dataset contains grayscale images, and the task consists of classifying the images in the ten classes. As we did in HW2 we have to divide the dataset in training test and validation set. Since we will use a [2DConv](https://www.tensorflow.org/api_docs/python/tf/keras/layers/Conv2D) we have to provide also a new dimension of the input that represents the number of channels (that in ggreyscaleimage is just one). Therefore we [tf.expand_dims](https://) dim to do that. Finaly, as we did in HW2 we have to normalize the input data."
      ]
    },
    {
      "cell_type": "code",
      "metadata": {
        "id": "8QQy37jnsH_e",
        "colab": {
          "base_uri": "https://localhost:8080/"
        },
        "outputId": "8c641b84-f83b-47f9-a496-0fb2a010c3f9"
      },
      "source": [
        "fashion_mnist = keras.datasets.fashion_mnist\n",
        "(X_train_full, y_train_full), (X_test, y_test) = (\n",
        "    fashion_mnist.load_data()) #The dataset is already divede in test and training..\n",
        "\n",
        "#Normalize the data\n",
        "pixel_means = X_train_full.mean(axis = 0)\n",
        "pixel_stds = X_test.std(axis = 0)\n",
        "\n",
        "X_train_full = (X_train_full - pixel_means) / pixel_stds\n",
        "X_test = (X_test - pixel_means) / pixel_stds \n",
        "\n",
        "#Add one dimension to manage the channel\n",
        "X_train_full=tf.expand_dims(X_train_full, 3) \n",
        "X_test=tf.expand_dims(X_test,3)\n",
        "\n",
        "#Extract the first 5000 samples of the training set, to use them as the validation set\n",
        "X_valid, X_train = X_train_full[:5000], X_train_full[5000:] \n",
        "y_valid, y_train = y_train_full[:5000], y_train_full[5000:]\n",
        "\n",
        "class_names = [\"T-shirt/top\", \"Trouser\", \"Pullover\", \"Dress\", \"Coat\",\n",
        "               \"Sandal\", \"Shirt\", \"Sneaker\", \"Bag\", \"Ankle boot\"]\n"
      ],
      "execution_count": 2,
      "outputs": [
        {
          "output_type": "stream",
          "text": [
            "Downloading data from https://storage.googleapis.com/tensorflow/tf-keras-datasets/train-labels-idx1-ubyte.gz\n",
            "32768/29515 [=================================] - 0s 0us/step\n",
            "Downloading data from https://storage.googleapis.com/tensorflow/tf-keras-datasets/train-images-idx3-ubyte.gz\n",
            "26427392/26421880 [==============================] - 0s 0us/step\n",
            "Downloading data from https://storage.googleapis.com/tensorflow/tf-keras-datasets/t10k-labels-idx1-ubyte.gz\n",
            "8192/5148 [===============================================] - 0s 0us/step\n",
            "Downloading data from https://storage.googleapis.com/tensorflow/tf-keras-datasets/t10k-images-idx3-ubyte.gz\n",
            "4423680/4422102 [==============================] - 0s 0us/step\n"
          ],
          "name": "stdout"
        }
      ]
    },
    {
      "cell_type": "markdown",
      "metadata": {
        "id": "mhWYkFmQsNm5"
      },
      "source": [
        "###Define the model\n",
        "\n",
        "Let's create a simple CNN. The model will be composed of:\n",
        "* One 2D convolutional layer with kernel size 3x3 and 32 output filters/features, that use ReLu activation function\n",
        "* a Max Pooling layer (2D) of size 2x2 ([MaxPool2D](https://www.tensorflow.org/api_docs/python/tf/keras/layers/MaxPool2D))\n",
        "* a Flatten layer\n",
        "* the output layer,  the same we used in HW2 (that use softmax function)\n",
        "Note that as 'input_shape' attribute's value in the first layer report also the third dimension that represents the channel."
      ]
    },
    {
      "cell_type": "code",
      "metadata": {
        "id": "paLpCd7XsOYs"
      },
      "source": [
        "model = keras.models.Sequential([\n",
        "    keras.layers.Conv2D(filters=32, kernel_size=[3,3], padding=\"same\", activation=\"relu\", input_shape=[28, 28,1]),\n",
        "    keras.layers.MaxPool2D(pool_size=[2,2]),\n",
        "    keras.layers.Flatten(),\n",
        "    keras.layers.Dense(10, activation=\"softmax\")\n",
        "])\n",
        "model.compile(loss=\"sparse_categorical_crossentropy\",\n",
        "              optimizer='sgd',\n",
        "              metrics=[\"accuracy\"])\n"
      ],
      "execution_count": 3,
      "outputs": []
    },
    {
      "cell_type": "markdown",
      "metadata": {
        "id": "bdnAR5KzssZk"
      },
      "source": [
        "Print the model summary"
      ]
    },
    {
      "cell_type": "code",
      "metadata": {
        "id": "ga-UGdspsslW",
        "colab": {
          "base_uri": "https://localhost:8080/"
        },
        "outputId": "58d346d5-f0bd-48e7-fc44-d84d7565a50b"
      },
      "source": [
        "model.summary()"
      ],
      "execution_count": 4,
      "outputs": [
        {
          "output_type": "stream",
          "text": [
            "Model: \"sequential\"\n",
            "_________________________________________________________________\n",
            "Layer (type)                 Output Shape              Param #   \n",
            "=================================================================\n",
            "conv2d (Conv2D)              (None, 28, 28, 32)        320       \n",
            "_________________________________________________________________\n",
            "max_pooling2d (MaxPooling2D) (None, 14, 14, 32)        0         \n",
            "_________________________________________________________________\n",
            "flatten (Flatten)            (None, 6272)              0         \n",
            "_________________________________________________________________\n",
            "dense (Dense)                (None, 10)                62730     \n",
            "=================================================================\n",
            "Total params: 63,050\n",
            "Trainable params: 63,050\n",
            "Non-trainable params: 0\n",
            "_________________________________________________________________\n"
          ],
          "name": "stdout"
        }
      ]
    },
    {
      "cell_type": "markdown",
      "metadata": {
        "id": "11S83_J0MIqb"
      },
      "source": [
        "Note that the number of parameters mostly depends on the output layers, indeed the sharing parameters techinique used by the 2D convolutional layers allows to significantly reduce the number of learnable weights.\n",
        "Now we can train the model"
      ]
    },
    {
      "cell_type": "code",
      "metadata": {
        "id": "57aZ0KRGM7kY",
        "colab": {
          "base_uri": "https://localhost:8080/"
        },
        "outputId": "efd7208c-eb6b-4b3e-a776-d3a9d9d68ff2"
      },
      "source": [
        "history = model.fit(X_train, y_train, epochs=10, batch_size=128,\n",
        "                    validation_data=(X_valid, y_valid))"
      ],
      "execution_count": 5,
      "outputs": [
        {
          "output_type": "stream",
          "text": [
            "Epoch 1/10\n",
            "430/430 [==============================] - 22s 49ms/step - loss: 1.0288 - accuracy: 0.6797 - val_loss: 0.5118 - val_accuracy: 0.8258\n",
            "Epoch 2/10\n",
            "430/430 [==============================] - 21s 48ms/step - loss: 0.4947 - accuracy: 0.8262 - val_loss: 0.4387 - val_accuracy: 0.8562\n",
            "Epoch 3/10\n",
            "430/430 [==============================] - 21s 49ms/step - loss: 0.4293 - accuracy: 0.8513 - val_loss: 0.4067 - val_accuracy: 0.8654\n",
            "Epoch 4/10\n",
            "430/430 [==============================] - 21s 48ms/step - loss: 0.3972 - accuracy: 0.8623 - val_loss: 0.3933 - val_accuracy: 0.8690\n",
            "Epoch 5/10\n",
            "430/430 [==============================] - 21s 48ms/step - loss: 0.3899 - accuracy: 0.8656 - val_loss: 0.3824 - val_accuracy: 0.8730\n",
            "Epoch 6/10\n",
            "430/430 [==============================] - 21s 49ms/step - loss: 0.3619 - accuracy: 0.8748 - val_loss: 0.3738 - val_accuracy: 0.8746\n",
            "Epoch 7/10\n",
            "430/430 [==============================] - 21s 48ms/step - loss: 0.3498 - accuracy: 0.8779 - val_loss: 0.3624 - val_accuracy: 0.8780\n",
            "Epoch 8/10\n",
            "430/430 [==============================] - 21s 49ms/step - loss: 0.3431 - accuracy: 0.8809 - val_loss: 0.3678 - val_accuracy: 0.8724\n",
            "Epoch 9/10\n",
            "430/430 [==============================] - 21s 49ms/step - loss: 0.3365 - accuracy: 0.8823 - val_loss: 0.3470 - val_accuracy: 0.8840\n",
            "Epoch 10/10\n",
            "430/430 [==============================] - 21s 49ms/step - loss: 0.3266 - accuracy: 0.8839 - val_loss: 0.3561 - val_accuracy: 0.8804\n"
          ],
          "name": "stdout"
        }
      ]
    },
    {
      "cell_type": "markdown",
      "metadata": {
        "id": "xfPHQGs6M8AE"
      },
      "source": [
        "Plot the loss and the accuracy trends for the training and validation set, Then compute the result on the test set."
      ]
    },
    {
      "cell_type": "code",
      "metadata": {
        "id": "yVD4jB7ZMK5z",
        "colab": {
          "base_uri": "https://localhost:8080/",
          "height": 798
        },
        "outputId": "5e8646e5-6fd7-4dcf-c9c9-0927a6edfe25"
      },
      "source": [
        "def plot_loss(history):\n",
        "  plt.figure(figsize=(10,6))\n",
        "  plt.plot(history.epoch,history.history['loss'])\n",
        "  plt.plot(history.epoch,history.history['val_loss'])\n",
        "  plt.title('loss')\n",
        "\n",
        "def plot_accuracy(history):\n",
        "  plt.figure(figsize=(10,6))\n",
        "  plt.plot(history.epoch,history.history['accuracy'])\n",
        "  plt.plot(history.epoch,history.history['val_accuracy'])\n",
        "  plt.title('accuracy')\n",
        "\n",
        "plot_loss(history)\n",
        "\n",
        "plot_accuracy(history)\n",
        "\n",
        "scores = model.evaluate(X_test, y_test, verbose=2)\n",
        "print(\"%s: %.2f%%\" % (model.metrics_names[1], scores[1]*100))\n",
        "\n"
      ],
      "execution_count": 6,
      "outputs": [
        {
          "output_type": "stream",
          "text": [
            "313/313 - 2s - loss: 0.3703 - accuracy: 0.8705\n",
            "accuracy: 87.05%\n"
          ],
          "name": "stdout"
        },
        {
          "output_type": "display_data",
          "data": {
            "image/png": "[encoded data removed]",
            "text/plain": [
              "<Figure size 720x432 with 1 Axes>"
            ]
          },
          "metadata": {
            "tags": [],
            "needs_background": "light"
          }
        },
        {
          "output_type": "display_data",
          "data": {
            "image/png": "[encoded data removed]",
            "text/plain": [
              "<Figure size 720x432 with 1 Axes>"
            ]
          },
          "metadata": {
            "tags": [],
            "needs_background": "light"
          }
        }
      ]
    },
    {
      "cell_type": "markdown",
      "metadata": {
        "id": "j5wOQymFYZjA"
      },
      "source": [
        "###Visualize Weights\n",
        "\n",
        "An interesting thing is to visualize the learned weights for the convolutional layer. We have 32 kernels of size 3x3, we can just plot them as images, mapping the weight values to grayscale."
      ]
    },
    {
      "cell_type": "code",
      "metadata": {
        "id": "EXHiS8VyY6pg",
        "colab": {
          "base_uri": "https://localhost:8080/",
          "height": 237
        },
        "outputId": "eb1be713-2059-4523-c4ef-8da3f5bf9652"
      },
      "source": [
        "# Weights for the first convolutional layer\n",
        "w0=model.get_weights()[0][:,:,0,:]\n",
        "\n",
        "# Normalize to range 0.0 - 1.0\n",
        "w0-=np.min(w0)\n",
        "w0/=np.max(w0)\n",
        "\n",
        "for r in range(4):\n",
        "    for c in range(8):\n",
        "        n=r*8+c\n",
        "        plt.subplot(4, 8, n+1)\n",
        "        plt.imshow(w0[:,:,n], interpolation='none')\n",
        "        plt.axis('off')\n",
        "        plt.gray()\n",
        "plt.show()"
      ],
      "execution_count": 7,
      "outputs": [
        {
          "output_type": "display_data",
          "data": {
            "image/png": "[encoded data removed]",
            "text/plain": [
              "<Figure size 432x288 with 32 Axes>"
            ]
          },
          "metadata": {
            "tags": [],
            "needs_background": "light"
          }
        }
      ]
    },
    {
      "cell_type": "markdown",
      "metadata": {
        "id": "OsFQRbx3ZWtp"
      },
      "source": [
        "They might be a bit hard to interpret, but it seems that the various filters have learned to detect various corners and edges."
      ]
    },
    {
      "cell_type": "markdown",
      "metadata": {
        "id": "-bOYmnXgZXi4"
      },
      "source": [
        "## Exercise 3.2: Develop a better CNN\n",
        "Let's develop a network that performs better than the very simple one above. This exercise aims to explore how much the various hyper-parameters influence the classification capability of the model. \n",
        "\n",
        "**To Complete**: Your task is to do some reparametrizations of the previous exercise's network and compare the results. At least one of them should have an improvement in the test set result (generalization) than the result of the model used in the previous exercise.\n",
        "In the cell below report only the code of the **best model** that you can find. In addtion, print out its result on the test set, and plot the accuracy and the loss trends in the notebook you return.\n",
        "Moreover, for each setup you test, analyze and discuss the obtained results briefly in the last cells in the bottom.\n",
        "\n",
        "Hint: Each reparameterization should change a different aspect in the network, while the rest of the parameters would stay the same. \n",
        "Example parameters to try to change (we suggest to test at least one re-parametrization for each of these categories):\n",
        "\n",
        "*    number of layers or neurons or filters dimension\n",
        "*   activation functions\n",
        "*   epochs\n",
        "*   batch sizes\n",
        "*   optimizer, see TensorFlow documentation on [optimizers](https://https://www.tensorflow.org/api_docs/python/tf/keras/optimizers)\n",
        "*   max-pooling on/off on certain layers, or pool size\n",
        "\n",
        "For what concerns the optimizer, as you can see in the 'compile' method [documentation'](https://www.tensorflow.org/api_docs/python/tf/keras/Model#compile) is it possible to pass as 'optimizer ' attribute's value a string (the name of optimizer) or an optimizer instance.\n",
        "\n",
        "Notice that changing the final layer's softmax activation plus the categorical_crossentropy loss requires some consideration. Don't do it unless you have a good plan."
      ]
    },
    {
      "cell_type": "code",
      "metadata": {
        "id": "IB-ZgfR5afs9",
        "colab": {
          "base_uri": "https://localhost:8080/"
        },
        "outputId": "cadb37ca-fc12-42f3-ea22-03ca9b7f76bb"
      },
      "source": [
        "model_best = keras.models.Sequential([\r\n",
        "    keras.layers.Conv2D(filters=32, kernel_size=[3,3], padding=\"same\", activation=\"relu\", input_shape=[28, 28,1]),\r\n",
        "    keras.layers.MaxPool2D(pool_size=[2,2]),\r\n",
        "    keras.layers.Dropout(0.2),\r\n",
        "    keras.layers.Conv2D(filters=32, kernel_size=[3,3], padding=\"same\", activation=\"relu\", input_shape=[28, 28,1]),\r\n",
        "    keras.layers.Dropout(0.2),\r\n",
        "    keras.layers.Conv2D(filters=32, kernel_size=[3,3], padding=\"same\", activation=\"relu\", input_shape=[28, 28,1]),\r\n",
        "    keras.layers.Dropout(0.2),\r\n",
        "    keras.layers.Flatten(),\r\n",
        "    keras.layers.Dense(128, activation='relu'),\r\n",
        "    keras.layers.Dropout(0.2),\r\n",
        "    keras.layers.Dense(10, activation=\"softmax\")\r\n",
        "])\r\n",
        "model_best.compile(loss=\"sparse_categorical_crossentropy\",\r\n",
        "              optimizer=keras.optimizers.Adam(),\r\n",
        "              metrics=[\"accuracy\"])\r\n",
        "\r\n",
        "model_best.summary()"
      ],
      "execution_count": 8,
      "outputs": [
        {
          "output_type": "stream",
          "text": [
            "Model: \"sequential_1\"\n",
            "_________________________________________________________________\n",
            "Layer (type)                 Output Shape              Param #   \n",
            "=================================================================\n",
            "conv2d_1 (Conv2D)            (None, 28, 28, 32)        320       \n",
            "_________________________________________________________________\n",
            "max_pooling2d_1 (MaxPooling2 (None, 14, 14, 32)        0         \n",
            "_________________________________________________________________\n",
            "dropout (Dropout)            (None, 14, 14, 32)        0         \n",
            "_________________________________________________________________\n",
            "conv2d_2 (Conv2D)            (None, 14, 14, 32)        9248      \n",
            "_________________________________________________________________\n",
            "dropout_1 (Dropout)          (None, 14, 14, 32)        0         \n",
            "_________________________________________________________________\n",
            "conv2d_3 (Conv2D)            (None, 14, 14, 32)        9248      \n",
            "_________________________________________________________________\n",
            "dropout_2 (Dropout)          (None, 14, 14, 32)        0         \n",
            "_________________________________________________________________\n",
            "flatten_1 (Flatten)          (None, 6272)              0         \n",
            "_________________________________________________________________\n",
            "dense_1 (Dense)              (None, 128)               802944    \n",
            "_________________________________________________________________\n",
            "dropout_3 (Dropout)          (None, 128)               0         \n",
            "_________________________________________________________________\n",
            "dense_2 (Dense)              (None, 10)                1290      \n",
            "=================================================================\n",
            "Total params: 823,050\n",
            "Trainable params: 823,050\n",
            "Non-trainable params: 0\n",
            "_________________________________________________________________\n"
          ],
          "name": "stdout"
        }
      ]
    },
    {
      "cell_type": "code",
      "metadata": {
        "colab": {
          "base_uri": "https://localhost:8080/"
        },
        "id": "207TfecVBOFA",
        "outputId": "c603dec5-430c-4b3f-9c6a-9f3b9e659a4a"
      },
      "source": [
        "history = model_best.fit(X_train, y_train, epochs=10, batch_size=256,\r\n",
        "                    validation_data=(X_valid, y_valid))"
      ],
      "execution_count": 9,
      "outputs": [
        {
          "output_type": "stream",
          "text": [
            "Epoch 1/10\n",
            "215/215 [==============================] - 64s 294ms/step - loss: 0.7656 - accuracy: 0.7328 - val_loss: 0.3228 - val_accuracy: 0.8840\n",
            "Epoch 2/10\n",
            "215/215 [==============================] - 63s 295ms/step - loss: 0.3421 - accuracy: 0.8770 - val_loss: 0.2823 - val_accuracy: 0.8980\n",
            "Epoch 3/10\n",
            "215/215 [==============================] - 64s 296ms/step - loss: 0.2875 - accuracy: 0.8946 - val_loss: 0.2470 - val_accuracy: 0.9074\n",
            "Epoch 4/10\n",
            "215/215 [==============================] - 64s 296ms/step - loss: 0.2546 - accuracy: 0.9037 - val_loss: 0.2307 - val_accuracy: 0.9132\n",
            "Epoch 5/10\n",
            "215/215 [==============================] - 64s 296ms/step - loss: 0.2335 - accuracy: 0.9128 - val_loss: 0.2228 - val_accuracy: 0.9176\n",
            "Epoch 6/10\n",
            "215/215 [==============================] - 64s 296ms/step - loss: 0.2134 - accuracy: 0.9201 - val_loss: 0.2273 - val_accuracy: 0.9128\n",
            "Epoch 7/10\n",
            "215/215 [==============================] - 63s 295ms/step - loss: 0.1958 - accuracy: 0.9285 - val_loss: 0.2084 - val_accuracy: 0.9258\n",
            "Epoch 8/10\n",
            "215/215 [==============================] - 63s 295ms/step - loss: 0.1852 - accuracy: 0.9304 - val_loss: 0.2009 - val_accuracy: 0.9250\n",
            "Epoch 9/10\n",
            "215/215 [==============================] - 63s 295ms/step - loss: 0.1683 - accuracy: 0.9375 - val_loss: 0.2056 - val_accuracy: 0.9280\n",
            "Epoch 10/10\n",
            "215/215 [==============================] - 64s 296ms/step - loss: 0.1593 - accuracy: 0.9401 - val_loss: 0.2029 - val_accuracy: 0.9282\n"
          ],
          "name": "stdout"
        }
      ]
    },
    {
      "cell_type": "code",
      "metadata": {
        "colab": {
          "base_uri": "https://localhost:8080/",
          "height": 798
        },
        "id": "QZRO7aHpEbZH",
        "outputId": "012905c7-5947-4a88-c041-0dab437d894c"
      },
      "source": [
        "def plot_loss(history):\r\n",
        "  plt.figure(figsize=(10,6))\r\n",
        "  plt.plot(history.epoch,history.history['loss'])\r\n",
        "  plt.plot(history.epoch,history.history['val_loss'])\r\n",
        "  plt.title('loss')\r\n",
        "\r\n",
        "def plot_accuracy(history):\r\n",
        "  plt.figure(figsize=(10,6))\r\n",
        "  plt.plot(history.epoch,history.history['accuracy'])\r\n",
        "  plt.plot(history.epoch,history.history['val_accuracy'])\r\n",
        "  plt.title('accuracy')\r\n",
        "\r\n",
        "plot_loss(history)\r\n",
        "\r\n",
        "plot_accuracy(history)\r\n",
        "\r\n",
        "scores = model_best.evaluate(X_test, y_test, verbose=2)\r\n",
        "print(\"%s: %.2f%%\" % (model_best.metrics_names[1], scores[1]*100))"
      ],
      "execution_count": 10,
      "outputs": [
        {
          "output_type": "stream",
          "text": [
            "313/313 - 3s - loss: 0.2217 - accuracy: 0.9197\n",
            "accuracy: 91.97%\n"
          ],
          "name": "stdout"
        },
        {
          "output_type": "display_data",
          "data": {
            "image/png": "[encoded data removed]",
            "text/plain": [
              "<Figure size 720x432 with 1 Axes>"
            ]
          },
          "metadata": {
            "tags": [],
            "needs_background": "light"
          }
        },
        {
          "output_type": "display_data",
          "data": {
            "image/png": "[encoded data removed]",
            "text/plain": [
              "<Figure size 720x432 with 1 Axes>"
            ]
          },
          "metadata": {
            "tags": [],
            "needs_background": "light"
          }
        }
      ]
    },
    {
      "cell_type": "markdown",
      "metadata": {
        "id": "z4aKgJLqEu1f"
      },
      "source": [
        "Besides, I also tested other models: \r\n",
        "\r\n",
        "* Using the same architecture as in the base model and adding regularization like L1 and L2. The results were not good. \r\n",
        "\r\n",
        "* Adding more layers to the basel model, both convolutional and dense. The model did not perform better.\r\n",
        "\r\n",
        "* Adding dropout layers as a regularization technique and feeding the whole NN to 2 dense layers (one of 128 neurons, then one for the 10-way classification). Although, training curves were more closely tracking the validation ones but accuracy decreased.\r\n",
        "\r\n",
        "* Adding dropout layers as a regularization technique and feeding the whole NN to 2 dense layers (one of 128 neurons, then one for the 10-way classification), also changing the optimizer to Adam. This achieved high accuracy too, maybe being the second best fit, but by analyzing the loss and accuracy trends, it wasn't that good of a fit. Also trying L2 regularization didn't help. \r\n",
        "\r\n",
        "* Increasing the number of filters in the convolutional layers to 64 did not improve the model.\r\n",
        "\r\n",
        "* Using the feature map in the convolutional layers of a size 3x3 is better when compared to size of 2x2.\r\n",
        "\r\n",
        "* Using a batch size of 256 instead of 128 increased performance of all the models.\r\n",
        "\r\n"
      ]
    }
  ]
}